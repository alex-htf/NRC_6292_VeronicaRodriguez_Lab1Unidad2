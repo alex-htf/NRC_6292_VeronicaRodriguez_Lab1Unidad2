{
 "cells": [
  {
   "cell_type": "markdown",
   "id": "006799ba",
   "metadata": {},
   "source": [
    "# IMPORTAR LIBRERIAS"
   ]
  },
  {
   "cell_type": "code",
   "execution_count": 30,
   "id": "c39d78c7",
   "metadata": {},
   "outputs": [
    {
     "name": "stdout",
     "output_type": "stream",
     "text": [
      "En este apartado se importan las librerías pandas y sklearn\n",
      "None\n"
     ]
    }
   ],
   "source": [
    "def librerias():\n",
    "    '''En este apartado se importan las librerías pandas y sklearn'''\n",
    "import pandas as pd\n",
    "from sklearn.tree import DecisionTreeClassifier\n",
    "from sklearn.model_selection import train_test_split\n",
    "from sklearn import metrics\n",
    "print(librerias.__doc__)\n",
    "print(librerias())"
   ]
  },
  {
   "cell_type": "markdown",
   "id": "74e3d603",
   "metadata": {},
   "source": [
    "# CARGAR DATASET DE DIABETES"
   ]
  },
  {
   "cell_type": "code",
   "execution_count": 31,
   "id": "b5933f1a",
   "metadata": {},
   "outputs": [
    {
     "name": "stdout",
     "output_type": "stream",
     "text": [
      "Cargar el dataset \"Dataset of Diabetes.csv\"\n",
      "None\n"
     ]
    },
    {
     "data": {
      "text/html": [
       "<div>\n",
       "<style scoped>\n",
       "    .dataframe tbody tr th:only-of-type {\n",
       "        vertical-align: middle;\n",
       "    }\n",
       "\n",
       "    .dataframe tbody tr th {\n",
       "        vertical-align: top;\n",
       "    }\n",
       "\n",
       "    .dataframe thead th {\n",
       "        text-align: right;\n",
       "    }\n",
       "</style>\n",
       "<table border=\"1\" class=\"dataframe\">\n",
       "  <thead>\n",
       "    <tr style=\"text-align: right;\">\n",
       "      <th></th>\n",
       "      <th>ID</th>\n",
       "      <th>No_Pation</th>\n",
       "      <th>Gender</th>\n",
       "      <th>AGE</th>\n",
       "      <th>Urea</th>\n",
       "      <th>Cr</th>\n",
       "      <th>HbA1c</th>\n",
       "      <th>Chol</th>\n",
       "      <th>TG</th>\n",
       "      <th>HDL</th>\n",
       "      <th>LDL</th>\n",
       "      <th>VLDL</th>\n",
       "      <th>BMI</th>\n",
       "      <th>CLASS</th>\n",
       "    </tr>\n",
       "  </thead>\n",
       "  <tbody>\n",
       "    <tr>\n",
       "      <th>0</th>\n",
       "      <td>502</td>\n",
       "      <td>17975</td>\n",
       "      <td>F</td>\n",
       "      <td>50</td>\n",
       "      <td>4.7</td>\n",
       "      <td>46</td>\n",
       "      <td>4.9</td>\n",
       "      <td>4.2</td>\n",
       "      <td>0.9</td>\n",
       "      <td>2.4</td>\n",
       "      <td>1.4</td>\n",
       "      <td>0.5</td>\n",
       "      <td>24.0</td>\n",
       "      <td>N</td>\n",
       "    </tr>\n",
       "    <tr>\n",
       "      <th>1</th>\n",
       "      <td>735</td>\n",
       "      <td>34221</td>\n",
       "      <td>M</td>\n",
       "      <td>26</td>\n",
       "      <td>4.5</td>\n",
       "      <td>62</td>\n",
       "      <td>4.9</td>\n",
       "      <td>3.7</td>\n",
       "      <td>1.4</td>\n",
       "      <td>1.1</td>\n",
       "      <td>2.1</td>\n",
       "      <td>0.6</td>\n",
       "      <td>23.0</td>\n",
       "      <td>N</td>\n",
       "    </tr>\n",
       "    <tr>\n",
       "      <th>2</th>\n",
       "      <td>420</td>\n",
       "      <td>47975</td>\n",
       "      <td>F</td>\n",
       "      <td>50</td>\n",
       "      <td>4.7</td>\n",
       "      <td>46</td>\n",
       "      <td>4.9</td>\n",
       "      <td>4.2</td>\n",
       "      <td>0.9</td>\n",
       "      <td>2.4</td>\n",
       "      <td>1.4</td>\n",
       "      <td>0.5</td>\n",
       "      <td>24.0</td>\n",
       "      <td>N</td>\n",
       "    </tr>\n",
       "    <tr>\n",
       "      <th>3</th>\n",
       "      <td>680</td>\n",
       "      <td>87656</td>\n",
       "      <td>F</td>\n",
       "      <td>50</td>\n",
       "      <td>4.7</td>\n",
       "      <td>46</td>\n",
       "      <td>4.9</td>\n",
       "      <td>4.2</td>\n",
       "      <td>0.9</td>\n",
       "      <td>2.4</td>\n",
       "      <td>1.4</td>\n",
       "      <td>0.5</td>\n",
       "      <td>24.0</td>\n",
       "      <td>N</td>\n",
       "    </tr>\n",
       "    <tr>\n",
       "      <th>4</th>\n",
       "      <td>504</td>\n",
       "      <td>34223</td>\n",
       "      <td>M</td>\n",
       "      <td>33</td>\n",
       "      <td>7.1</td>\n",
       "      <td>46</td>\n",
       "      <td>4.9</td>\n",
       "      <td>4.9</td>\n",
       "      <td>1.0</td>\n",
       "      <td>0.8</td>\n",
       "      <td>2.0</td>\n",
       "      <td>0.4</td>\n",
       "      <td>21.0</td>\n",
       "      <td>N</td>\n",
       "    </tr>\n",
       "  </tbody>\n",
       "</table>\n",
       "</div>"
      ],
      "text/plain": [
       "    ID  No_Pation Gender  AGE  Urea  Cr  HbA1c  Chol   TG  HDL  LDL  VLDL  \\\n",
       "0  502      17975      F   50   4.7  46    4.9   4.2  0.9  2.4  1.4   0.5   \n",
       "1  735      34221      M   26   4.5  62    4.9   3.7  1.4  1.1  2.1   0.6   \n",
       "2  420      47975      F   50   4.7  46    4.9   4.2  0.9  2.4  1.4   0.5   \n",
       "3  680      87656      F   50   4.7  46    4.9   4.2  0.9  2.4  1.4   0.5   \n",
       "4  504      34223      M   33   7.1  46    4.9   4.9  1.0  0.8  2.0   0.4   \n",
       "\n",
       "    BMI CLASS  \n",
       "0  24.0     N  \n",
       "1  23.0     N  \n",
       "2  24.0     N  \n",
       "3  24.0     N  \n",
       "4  21.0     N  "
      ]
     },
     "execution_count": 31,
     "metadata": {},
     "output_type": "execute_result"
    }
   ],
   "source": [
    "def cargaDataset():\n",
    "    '''Cargar el dataset \"Dataset of Diabetes.csv\"'''\n",
    "df_diabetes = pd.read_csv(\"Dataset of Diabetes.csv\")\n",
    "print(cargaDataset.__doc__)\n",
    "print(cargaDataset())\n",
    "df_diabetes.head()"
   ]
  },
  {
   "cell_type": "markdown",
   "id": "05888702",
   "metadata": {},
   "source": [
    "# MAPEO DE DATOS"
   ]
  },
  {
   "cell_type": "code",
   "execution_count": 32,
   "id": "96bc5f3f",
   "metadata": {},
   "outputs": [
    {
     "name": "stdout",
     "output_type": "stream",
     "text": [
      "Mapeo de los datos de la columna Gender. \n",
      "    Cambio de String por valores binarios.\n",
      "    M = 0 y F = 1\n",
      "None\n"
     ]
    },
    {
     "data": {
      "text/html": [
       "<div>\n",
       "<style scoped>\n",
       "    .dataframe tbody tr th:only-of-type {\n",
       "        vertical-align: middle;\n",
       "    }\n",
       "\n",
       "    .dataframe tbody tr th {\n",
       "        vertical-align: top;\n",
       "    }\n",
       "\n",
       "    .dataframe thead th {\n",
       "        text-align: right;\n",
       "    }\n",
       "</style>\n",
       "<table border=\"1\" class=\"dataframe\">\n",
       "  <thead>\n",
       "    <tr style=\"text-align: right;\">\n",
       "      <th></th>\n",
       "      <th>ID</th>\n",
       "      <th>No_Pation</th>\n",
       "      <th>Gender</th>\n",
       "      <th>AGE</th>\n",
       "      <th>Urea</th>\n",
       "      <th>Cr</th>\n",
       "      <th>HbA1c</th>\n",
       "      <th>Chol</th>\n",
       "      <th>TG</th>\n",
       "      <th>HDL</th>\n",
       "      <th>LDL</th>\n",
       "      <th>VLDL</th>\n",
       "      <th>BMI</th>\n",
       "      <th>CLASS</th>\n",
       "    </tr>\n",
       "  </thead>\n",
       "  <tbody>\n",
       "    <tr>\n",
       "      <th>0</th>\n",
       "      <td>502</td>\n",
       "      <td>17975</td>\n",
       "      <td>1.0</td>\n",
       "      <td>50</td>\n",
       "      <td>4.7</td>\n",
       "      <td>46</td>\n",
       "      <td>4.9</td>\n",
       "      <td>4.2</td>\n",
       "      <td>0.9</td>\n",
       "      <td>2.4</td>\n",
       "      <td>1.4</td>\n",
       "      <td>0.5</td>\n",
       "      <td>24.0</td>\n",
       "      <td>N</td>\n",
       "    </tr>\n",
       "    <tr>\n",
       "      <th>1</th>\n",
       "      <td>735</td>\n",
       "      <td>34221</td>\n",
       "      <td>0.0</td>\n",
       "      <td>26</td>\n",
       "      <td>4.5</td>\n",
       "      <td>62</td>\n",
       "      <td>4.9</td>\n",
       "      <td>3.7</td>\n",
       "      <td>1.4</td>\n",
       "      <td>1.1</td>\n",
       "      <td>2.1</td>\n",
       "      <td>0.6</td>\n",
       "      <td>23.0</td>\n",
       "      <td>N</td>\n",
       "    </tr>\n",
       "    <tr>\n",
       "      <th>2</th>\n",
       "      <td>420</td>\n",
       "      <td>47975</td>\n",
       "      <td>1.0</td>\n",
       "      <td>50</td>\n",
       "      <td>4.7</td>\n",
       "      <td>46</td>\n",
       "      <td>4.9</td>\n",
       "      <td>4.2</td>\n",
       "      <td>0.9</td>\n",
       "      <td>2.4</td>\n",
       "      <td>1.4</td>\n",
       "      <td>0.5</td>\n",
       "      <td>24.0</td>\n",
       "      <td>N</td>\n",
       "    </tr>\n",
       "    <tr>\n",
       "      <th>3</th>\n",
       "      <td>680</td>\n",
       "      <td>87656</td>\n",
       "      <td>1.0</td>\n",
       "      <td>50</td>\n",
       "      <td>4.7</td>\n",
       "      <td>46</td>\n",
       "      <td>4.9</td>\n",
       "      <td>4.2</td>\n",
       "      <td>0.9</td>\n",
       "      <td>2.4</td>\n",
       "      <td>1.4</td>\n",
       "      <td>0.5</td>\n",
       "      <td>24.0</td>\n",
       "      <td>N</td>\n",
       "    </tr>\n",
       "    <tr>\n",
       "      <th>4</th>\n",
       "      <td>504</td>\n",
       "      <td>34223</td>\n",
       "      <td>0.0</td>\n",
       "      <td>33</td>\n",
       "      <td>7.1</td>\n",
       "      <td>46</td>\n",
       "      <td>4.9</td>\n",
       "      <td>4.9</td>\n",
       "      <td>1.0</td>\n",
       "      <td>0.8</td>\n",
       "      <td>2.0</td>\n",
       "      <td>0.4</td>\n",
       "      <td>21.0</td>\n",
       "      <td>N</td>\n",
       "    </tr>\n",
       "  </tbody>\n",
       "</table>\n",
       "</div>"
      ],
      "text/plain": [
       "    ID  No_Pation  Gender  AGE  Urea  Cr  HbA1c  Chol   TG  HDL  LDL  VLDL  \\\n",
       "0  502      17975     1.0   50   4.7  46    4.9   4.2  0.9  2.4  1.4   0.5   \n",
       "1  735      34221     0.0   26   4.5  62    4.9   3.7  1.4  1.1  2.1   0.6   \n",
       "2  420      47975     1.0   50   4.7  46    4.9   4.2  0.9  2.4  1.4   0.5   \n",
       "3  680      87656     1.0   50   4.7  46    4.9   4.2  0.9  2.4  1.4   0.5   \n",
       "4  504      34223     0.0   33   7.1  46    4.9   4.9  1.0  0.8  2.0   0.4   \n",
       "\n",
       "    BMI CLASS  \n",
       "0  24.0     N  \n",
       "1  23.0     N  \n",
       "2  24.0     N  \n",
       "3  24.0     N  \n",
       "4  21.0     N  "
      ]
     },
     "execution_count": 32,
     "metadata": {},
     "output_type": "execute_result"
    }
   ],
   "source": [
    "def mapeoGender():\n",
    "    '''Mapeo de los datos de la columna Gender. \n",
    "    Cambio de String por valores binarios.\n",
    "    M = 0 y F = 1'''\n",
    "df_diabetes['Gender'] = df_diabetes['Gender'].map({'M': 0, 'F': 1})\n",
    "print(mapeoGender.__doc__)\n",
    "print(mapeoGender())\n",
    "df_diabetes.head()"
   ]
  },
  {
   "cell_type": "code",
   "execution_count": 33,
   "id": "422eba10",
   "metadata": {
    "scrolled": true
   },
   "outputs": [
    {
     "name": "stdout",
     "output_type": "stream",
     "text": [
      "Mapeo de los datos de la columna CLASS. \n",
      "    Cambio de String por valores numéricos.\n",
      "    N = 0, P = 1 y Y = 2\n",
      "None\n"
     ]
    },
    {
     "data": {
      "text/html": [
       "<div>\n",
       "<style scoped>\n",
       "    .dataframe tbody tr th:only-of-type {\n",
       "        vertical-align: middle;\n",
       "    }\n",
       "\n",
       "    .dataframe tbody tr th {\n",
       "        vertical-align: top;\n",
       "    }\n",
       "\n",
       "    .dataframe thead th {\n",
       "        text-align: right;\n",
       "    }\n",
       "</style>\n",
       "<table border=\"1\" class=\"dataframe\">\n",
       "  <thead>\n",
       "    <tr style=\"text-align: right;\">\n",
       "      <th></th>\n",
       "      <th>ID</th>\n",
       "      <th>No_Pation</th>\n",
       "      <th>Gender</th>\n",
       "      <th>AGE</th>\n",
       "      <th>Urea</th>\n",
       "      <th>Cr</th>\n",
       "      <th>HbA1c</th>\n",
       "      <th>Chol</th>\n",
       "      <th>TG</th>\n",
       "      <th>HDL</th>\n",
       "      <th>LDL</th>\n",
       "      <th>VLDL</th>\n",
       "      <th>BMI</th>\n",
       "      <th>CLASS</th>\n",
       "    </tr>\n",
       "  </thead>\n",
       "  <tbody>\n",
       "    <tr>\n",
       "      <th>0</th>\n",
       "      <td>502</td>\n",
       "      <td>17975</td>\n",
       "      <td>1.0</td>\n",
       "      <td>50</td>\n",
       "      <td>4.7</td>\n",
       "      <td>46</td>\n",
       "      <td>4.9</td>\n",
       "      <td>4.2</td>\n",
       "      <td>0.9</td>\n",
       "      <td>2.4</td>\n",
       "      <td>1.4</td>\n",
       "      <td>0.5</td>\n",
       "      <td>24.0</td>\n",
       "      <td>0.0</td>\n",
       "    </tr>\n",
       "    <tr>\n",
       "      <th>1</th>\n",
       "      <td>735</td>\n",
       "      <td>34221</td>\n",
       "      <td>0.0</td>\n",
       "      <td>26</td>\n",
       "      <td>4.5</td>\n",
       "      <td>62</td>\n",
       "      <td>4.9</td>\n",
       "      <td>3.7</td>\n",
       "      <td>1.4</td>\n",
       "      <td>1.1</td>\n",
       "      <td>2.1</td>\n",
       "      <td>0.6</td>\n",
       "      <td>23.0</td>\n",
       "      <td>0.0</td>\n",
       "    </tr>\n",
       "    <tr>\n",
       "      <th>2</th>\n",
       "      <td>420</td>\n",
       "      <td>47975</td>\n",
       "      <td>1.0</td>\n",
       "      <td>50</td>\n",
       "      <td>4.7</td>\n",
       "      <td>46</td>\n",
       "      <td>4.9</td>\n",
       "      <td>4.2</td>\n",
       "      <td>0.9</td>\n",
       "      <td>2.4</td>\n",
       "      <td>1.4</td>\n",
       "      <td>0.5</td>\n",
       "      <td>24.0</td>\n",
       "      <td>0.0</td>\n",
       "    </tr>\n",
       "    <tr>\n",
       "      <th>3</th>\n",
       "      <td>680</td>\n",
       "      <td>87656</td>\n",
       "      <td>1.0</td>\n",
       "      <td>50</td>\n",
       "      <td>4.7</td>\n",
       "      <td>46</td>\n",
       "      <td>4.9</td>\n",
       "      <td>4.2</td>\n",
       "      <td>0.9</td>\n",
       "      <td>2.4</td>\n",
       "      <td>1.4</td>\n",
       "      <td>0.5</td>\n",
       "      <td>24.0</td>\n",
       "      <td>0.0</td>\n",
       "    </tr>\n",
       "    <tr>\n",
       "      <th>4</th>\n",
       "      <td>504</td>\n",
       "      <td>34223</td>\n",
       "      <td>0.0</td>\n",
       "      <td>33</td>\n",
       "      <td>7.1</td>\n",
       "      <td>46</td>\n",
       "      <td>4.9</td>\n",
       "      <td>4.9</td>\n",
       "      <td>1.0</td>\n",
       "      <td>0.8</td>\n",
       "      <td>2.0</td>\n",
       "      <td>0.4</td>\n",
       "      <td>21.0</td>\n",
       "      <td>0.0</td>\n",
       "    </tr>\n",
       "  </tbody>\n",
       "</table>\n",
       "</div>"
      ],
      "text/plain": [
       "    ID  No_Pation  Gender  AGE  Urea  Cr  HbA1c  Chol   TG  HDL  LDL  VLDL  \\\n",
       "0  502      17975     1.0   50   4.7  46    4.9   4.2  0.9  2.4  1.4   0.5   \n",
       "1  735      34221     0.0   26   4.5  62    4.9   3.7  1.4  1.1  2.1   0.6   \n",
       "2  420      47975     1.0   50   4.7  46    4.9   4.2  0.9  2.4  1.4   0.5   \n",
       "3  680      87656     1.0   50   4.7  46    4.9   4.2  0.9  2.4  1.4   0.5   \n",
       "4  504      34223     0.0   33   7.1  46    4.9   4.9  1.0  0.8  2.0   0.4   \n",
       "\n",
       "    BMI  CLASS  \n",
       "0  24.0    0.0  \n",
       "1  23.0    0.0  \n",
       "2  24.0    0.0  \n",
       "3  24.0    0.0  \n",
       "4  21.0    0.0  "
      ]
     },
     "execution_count": 33,
     "metadata": {},
     "output_type": "execute_result"
    }
   ],
   "source": [
    "def mapeoClass():\n",
    "   '''Mapeo de los datos de la columna CLASS. \n",
    "    Cambio de String por valores numéricos.\n",
    "    N = 0, P = 1 y Y = 2'''\n",
    "df_diabetes['CLASS'] = df_diabetes['CLASS'].map({'N': 0, 'P': 1, 'Y':2})\n",
    "print(mapeoClass.__doc__)\n",
    "print(mapeoClass())\n",
    "df_diabetes.head()"
   ]
  },
  {
   "cell_type": "markdown",
   "id": "a885cfcf",
   "metadata": {},
   "source": [
    "# DEFINIR VARIABLES"
   ]
  },
  {
   "cell_type": "code",
   "execution_count": 34,
   "id": "f3e7ea21",
   "metadata": {},
   "outputs": [
    {
     "name": "stdout",
     "output_type": "stream",
     "text": [
      "Definir la variable independiente (X) que corresponde a las características del modelo.\n",
      "None\n"
     ]
    }
   ],
   "source": [
    "def variableIndependiente():\n",
    "    '''Definir la variable independiente (X) que corresponde a las características del modelo.'''\n",
    "varIndep = ['ID', 'No_Pation', 'Gender', 'AGE', 'Urea', 'Cr', 'HbA1c', 'Chol', 'TG', 'HDL', 'LDL', 'VLDL','BMI']\n",
    "X = df_diabetes[varIndep]\n",
    "print(variableIndependiente.__doc__)\n",
    "print(variableIndependiente())"
   ]
  },
  {
   "cell_type": "code",
   "execution_count": 35,
   "id": "9712cb8a",
   "metadata": {},
   "outputs": [
    {
     "name": "stdout",
     "output_type": "stream",
     "text": [
      "Definir la variable dependiente (y) o la etiqueta del modelo.\n",
      "None\n"
     ]
    }
   ],
   "source": [
    "def variableDependiente():\n",
    "    '''Definir la variable dependiente (y) o la etiqueta del modelo.'''\n",
    "y = df_diabetes.CLASS\n",
    "print(variableDependiente.__doc__)\n",
    "print(variableDependiente())"
   ]
  },
  {
   "cell_type": "code",
   "execution_count": 36,
   "id": "a3806689",
   "metadata": {},
   "outputs": [
    {
     "name": "stdout",
     "output_type": "stream",
     "text": [
      "      ID  No_Pation  Gender  AGE  Urea  Cr  HbA1c  Chol   TG  HDL  LDL  VLDL  \\\n",
      "0    502      17975     1.0   50   4.7  46    4.9   4.2  0.9  2.4  1.4   0.5   \n",
      "1    735      34221     0.0   26   4.5  62    4.9   3.7  1.4  1.1  2.1   0.6   \n",
      "2    420      47975     1.0   50   4.7  46    4.9   4.2  0.9  2.4  1.4   0.5   \n",
      "3    680      87656     1.0   50   4.7  46    4.9   4.2  0.9  2.4  1.4   0.5   \n",
      "4    504      34223     0.0   33   7.1  46    4.9   4.9  1.0  0.8  2.0   0.4   \n",
      "..   ...        ...     ...  ...   ...  ..    ...   ...  ...  ...  ...   ...   \n",
      "995  200     454317     0.0   71  11.0  97    7.0   7.5  1.7  1.2  1.8   0.6   \n",
      "996  671     876534     0.0   31   3.0  60   12.3   4.1  2.2  0.7  2.4  15.4   \n",
      "997  669      87654     0.0   30   7.1  81    6.7   4.1  1.1  1.2  2.4   8.1   \n",
      "998   99      24004     0.0   38   5.8  59    6.7   5.3  2.0  1.6  2.9  14.0   \n",
      "999  248      24054     0.0   54   5.0  67    6.9   3.8  1.7  1.1  3.0   0.7   \n",
      "\n",
      "      BMI  \n",
      "0    24.0  \n",
      "1    23.0  \n",
      "2    24.0  \n",
      "3    24.0  \n",
      "4    21.0  \n",
      "..    ...  \n",
      "995  30.0  \n",
      "996  37.2  \n",
      "997  27.4  \n",
      "998  40.5  \n",
      "999  33.0  \n",
      "\n",
      "[1000 rows x 13 columns]\n",
      "\n",
      "0      0.0\n",
      "1      0.0\n",
      "2      0.0\n",
      "3      0.0\n",
      "4      0.0\n",
      "      ... \n",
      "995    2.0\n",
      "996    NaN\n",
      "997    NaN\n",
      "998    NaN\n",
      "999    NaN\n",
      "Name: CLASS, Length: 1000, dtype: float64\n",
      "Imprimir la variables X y la variable y.\n",
      "None\n"
     ]
    }
   ],
   "source": [
    "def imprimirVariables():\n",
    "    '''Imprimir la variables X y la variable y.'''\n",
    "print(X, y, sep='\\n\\n')\n",
    "print(imprimirVariables.__doc__)\n",
    "print(imprimirVariables())"
   ]
  },
  {
   "cell_type": "markdown",
   "id": "b048fa66",
   "metadata": {},
   "source": [
    "# LIMPIAR NULOS"
   ]
  },
  {
   "cell_type": "code",
   "execution_count": 37,
   "id": "f0992b0e",
   "metadata": {},
   "outputs": [
    {
     "name": "stdout",
     "output_type": "stream",
     "text": [
      "Comprobar que en el dataset no incluya valores nulos\n",
      "None\n"
     ]
    },
    {
     "data": {
      "text/plain": [
       "ID           0\n",
       "No_Pation    0\n",
       "Gender       1\n",
       "AGE          0\n",
       "Urea         0\n",
       "Cr           0\n",
       "HbA1c        0\n",
       "Chol         0\n",
       "TG           0\n",
       "HDL          0\n",
       "LDL          0\n",
       "VLDL         0\n",
       "BMI          0\n",
       "CLASS        5\n",
       "dtype: int64"
      ]
     },
     "execution_count": 37,
     "metadata": {},
     "output_type": "execute_result"
    }
   ],
   "source": [
    "def valoresNulos():\n",
    "    '''Comprobar que en el dataset no incluya valores nulos'''\n",
    "print(valoresNulos.__doc__)\n",
    "print(valoresNulos())\n",
    "df_diabetes.isnull().sum()"
   ]
  },
  {
   "cell_type": "code",
   "execution_count": 43,
   "id": "0640373e",
   "metadata": {},
   "outputs": [
    {
     "name": "stdout",
     "output_type": "stream",
     "text": [
      "Corregir el dataset para que no tenga valores nulos.\n",
      "None\n"
     ]
    },
    {
     "name": "stderr",
     "output_type": "stream",
     "text": [
      "C:\\Users\\Veronica\\AppData\\Local\\Temp\\ipykernel_13124\\4151146805.py:5: SettingWithCopyWarning: \n",
      "A value is trying to be set on a copy of a slice from a DataFrame\n",
      "\n",
      "See the caveats in the documentation: https://pandas.pydata.org/pandas-docs/stable/user_guide/indexing.html#returning-a-view-versus-a-copy\n",
      "  X.fillna(0, inplace=True)\n"
     ]
    }
   ],
   "source": [
    "def corregirNulos():\n",
    "    '''Corregir el dataset para que no tenga valores nulos.'''\n",
    "print(corregirNulos.__doc__)\n",
    "print(corregirNulos())\n",
    "X.fillna(0, inplace=True)\n",
    "y.fillna(0, inplace=True)"
   ]
  },
  {
   "cell_type": "markdown",
   "id": "04a5459b",
   "metadata": {},
   "source": [
    "# DIVIDIR EL DATASET"
   ]
  },
  {
   "cell_type": "code",
   "execution_count": 39,
   "id": "7490ec48",
   "metadata": {},
   "outputs": [
    {
     "name": "stdout",
     "output_type": "stream",
     "text": [
      "Dividir el dataset en entrenamiento y en test\n",
      "    70% para entrenar y 30% para las pruebas.\n",
      "None\n"
     ]
    }
   ],
   "source": [
    "def entrenamiento():\n",
    "    '''Dividir el dataset en entrenamiento y en test\n",
    "    70% para entrenar y 30% para las pruebas.'''\n",
    "X_train, X_test, y_train, y_test = train_test_split(X, y, test_size=0.3, random_state=1)\n",
    "print(entrenamiento.__doc__)\n",
    "print(entrenamiento())"
   ]
  },
  {
   "cell_type": "code",
   "execution_count": 40,
   "id": "39cad0c5",
   "metadata": {},
   "outputs": [
    {
     "name": "stdout",
     "output_type": "stream",
     "text": [
      "Crear y entrenar un árbol de decisión.\n",
      "None\n"
     ]
    }
   ],
   "source": [
    "def arbolDecision():\n",
    "    '''Crear y entrenar un árbol de decisión.'''\n",
    "clf = DecisionTreeClassifier()\n",
    "clf = clf.fit(X_train,y_train)\n",
    "print(arbolDecision.__doc__)\n",
    "print(arbolDecision())"
   ]
  },
  {
   "cell_type": "code",
   "execution_count": 41,
   "id": "40f7eb86",
   "metadata": {},
   "outputs": [
    {
     "name": "stdout",
     "output_type": "stream",
     "text": [
      "Predecir una respuesta a partir de los datos de prueba.\n",
      "None\n",
      "[2. 2. 2. 2. 2. 2. 2. 2. 2. 0. 2. 1. 2. 2. 2. 1. 1. 0. 2. 2. 2. 2. 2. 2.\n",
      " 2. 1. 2. 2. 2. 2. 2. 2. 2. 2. 2. 2. 0. 2. 2. 2. 2. 2. 0. 0. 2. 2. 2. 0.\n",
      " 2. 2. 2. 2. 2. 0. 1. 2. 2. 2. 2. 2. 2. 2. 2. 2. 2. 2. 2. 2. 2. 0. 2. 2.\n",
      " 2. 2. 2. 0. 2. 2. 2. 2. 2. 2. 2. 2. 2. 2. 2. 2. 2. 2. 2. 0. 2. 2. 2. 2.\n",
      " 2. 2. 2. 1. 2. 0. 2. 2. 2. 2. 2. 2. 2. 2. 2. 2. 2. 2. 2. 2. 2. 2. 1. 2.\n",
      " 2. 2. 0. 2. 2. 2. 2. 2. 2. 2. 2. 2. 2. 0. 2. 2. 2. 2. 2. 2. 0. 1. 2. 2.\n",
      " 1. 2. 2. 2. 2. 2. 2. 2. 0. 2. 0. 2. 2. 2. 0. 2. 2. 2. 1. 2. 2. 2. 2. 2.\n",
      " 2. 2. 2. 0. 2. 2. 2. 2. 0. 1. 2. 2. 2. 0. 2. 2. 2. 2. 2. 2. 2. 2. 2. 2.\n",
      " 2. 2. 2. 2. 2. 2. 2. 2. 2. 2. 2. 0. 2. 2. 0. 2. 2. 2. 2. 2. 2. 2. 2. 2.\n",
      " 2. 2. 2. 0. 2. 2. 2. 2. 2. 2. 0. 2. 2. 2. 0. 2. 2. 2. 2. 2. 2. 2. 2. 0.\n",
      " 2. 0. 2. 2. 2. 2. 2. 2. 1. 2. 2. 2. 2. 2. 2. 2. 2. 2. 2. 2. 1. 2. 0. 0.\n",
      " 2. 2. 2. 2. 2. 0. 2. 0. 2. 0. 2. 2. 2. 2. 2. 2. 2. 2. 0. 2. 2. 2. 2. 1.\n",
      " 2. 2. 2. 2. 2. 2. 2. 2. 2. 0. 2. 2.]\n"
     ]
    }
   ],
   "source": [
    "def predecirArbol():\n",
    "    '''Predecir una respuesta a partir de los datos de prueba.'''\n",
    "y_pred = clf.predict(X_test)\n",
    "print(predecirArbol.__doc__)\n",
    "print(predecirArbol())\n",
    "print(y_pred)"
   ]
  },
  {
   "cell_type": "markdown",
   "id": "3e66f3f6",
   "metadata": {},
   "source": [
    "# MATRIZ DE CONFUSIÓN"
   ]
  },
  {
   "cell_type": "code",
   "execution_count": 44,
   "id": "0b62a4eb",
   "metadata": {},
   "outputs": [
    {
     "name": "stdout",
     "output_type": "stream",
     "text": [
      "En este apartado se importan las librerías para crear la matriz de confusión.\n",
      "None\n"
     ]
    }
   ],
   "source": [
    "def libMatriz():\n",
    "    '''En este apartado se importan las librerías para crear la matriz de confusión.'''\n",
    "import matplotlib.pyplot as plt\n",
    "from sklearn.metrics import accuracy_score, precision_score, confusion_matrix, ConfusionMatrixDisplay\n",
    "from sklearn.metrics import plot_confusion_matrix\n",
    "print(libMatriz.__doc__)\n",
    "print(libMatriz())"
   ]
  },
  {
   "cell_type": "code",
   "execution_count": 45,
   "id": "aa5cce09",
   "metadata": {},
   "outputs": [
    {
     "name": "stdout",
     "output_type": "stream",
     "text": [
      "Crear y visualizar la matriz de confusión\n"
     ]
    },
    {
     "name": "stderr",
     "output_type": "stream",
     "text": [
      "C:\\Users\\Veronica\\anaconda3\\lib\\site-packages\\sklearn\\utils\\deprecation.py:87: FutureWarning: Function plot_confusion_matrix is deprecated; Function `plot_confusion_matrix` is deprecated in 1.0 and will be removed in 1.2. Use one of the class methods: ConfusionMatrixDisplay.from_predictions or ConfusionMatrixDisplay.from_estimator.\n",
      "  warnings.warn(msg, category=FutureWarning)\n"
     ]
    },
    {
     "data": {
      "image/png": "[encoded data removed]",
      "text/plain": [
       "<Figure size 432x288 with 2 Axes>"
      ]
     },
     "metadata": {
      "needs_background": "light"
     },
     "output_type": "display_data"
    }
   ],
   "source": [
    "def matrizConf():\n",
    "    '''Crear y visualizar la matriz de confusión'''\n",
    "print(matrizConf.__doc__)\n",
    "confusion_matrix(y_test, y_pred)\n",
    "plot_confusion_matrix(clf, X_test, y_test, cmap=plt.cm.Reds)\n",
    "plt.title(\"Matriz de confusión\")\n",
    "plt.show()"
   ]
  },
  {
   "cell_type": "markdown",
   "id": "8158ef59",
   "metadata": {},
   "source": [
    "interpretacion"
   ]
  },
  {
   "cell_type": "markdown",
   "id": "5a295de7",
   "metadata": {},
   "source": [
    "# EVALUAR MÉTRICAS"
   ]
  },
  {
   "cell_type": "code",
   "execution_count": 46,
   "id": "c6439951",
   "metadata": {},
   "outputs": [
    {
     "name": "stdout",
     "output_type": "stream",
     "text": [
      "Evaluar el Accuracy del modelo.\n",
      "Accuracy: 0.96\n"
     ]
    }
   ],
   "source": [
    "def evaluarAccuracy():\n",
    "    '''Evaluar el Accuracy del modelo.'''\n",
    "print(evaluarAccuracy.__doc__)\n",
    "print(\"Accuracy:\", metrics.accuracy_score(y_test, y_pred))"
   ]
  },
  {
   "cell_type": "code",
   "execution_count": 47,
   "id": "c1567199",
   "metadata": {},
   "outputs": [
    {
     "name": "stdout",
     "output_type": "stream",
     "text": [
      "Evaluar la precisión del modelo.\n",
      "Precisión:\n",
      "  0.919234360410831\n"
     ]
    }
   ],
   "source": [
    "def evaluarPrecisión():\n",
    "    '''Evaluar la precisión del modelo.'''\n",
    "print(evaluarPrecisión.__doc__)\n",
    "print(\"Precisión:\\n \", metrics.precision_score(y_test, y_pred, average = 'macro'))"
   ]
  },
  {
   "cell_type": "code",
   "execution_count": 48,
   "id": "3303afda",
   "metadata": {},
   "outputs": [
    {
     "name": "stdout",
     "output_type": "stream",
     "text": [
      "Evaluar Recall del modelo.\n",
      "Recall:\n",
      "  0.8831470588235294\n"
     ]
    }
   ],
   "source": [
    "def evaluarRecall():\n",
    "    '''Evaluar Recall del modelo.'''\n",
    "print(evaluarR.__doc__)\n",
    "print(\"Recall:\\n \", metrics.recall_score(y_test, y_pred, average = 'macro'))"
   ]
  },
  {
   "cell_type": "markdown",
   "id": "d51ce5fe",
   "metadata": {},
   "source": [
    "interpretacion"
   ]
  },
  {
   "cell_type": "code",
   "execution_count": null,
   "id": "2804d49a",
   "metadata": {},
   "outputs": [],
   "source": []
  },
  {
   "cell_type": "code",
   "execution_count": null,
   "id": "81eb4f49",
   "metadata": {},
   "outputs": [],
   "source": []
  },
  {
   "cell_type": "code",
   "execution_count": null,
   "id": "c6944e62",
   "metadata": {},
   "outputs": [],
   "source": []
  },
  {
   "cell_type": "code",
   "execution_count": null,
   "id": "0f37117b",
   "metadata": {},
   "outputs": [],
   "source": []
  },
  {
   "cell_type": "code",
   "execution_count": null,
   "id": "48036fc8",
   "metadata": {},
   "outputs": [],
   "source": []
  }
 ],
 "metadata": {
  "kernelspec": {
   "display_name": "Python 3 (ipykernel)",
   "language": "python",
   "name": "python3"
  },
  "language_info": {
   "codemirror_mode": {
    "name": "ipython",
    "version": 3
   },
   "file_extension": ".py",
   "mimetype": "text/x-python",
   "name": "python",
   "nbconvert_exporter": "python",
   "pygments_lexer": "ipython3",
   "version": "3.9.12"
  }
 },
 "nbformat": 4,
 "nbformat_minor": 5
}
